from sklearn.metrics.pairwise import cosine_similarity
from sklearn.preprocessing import StandardScaler
import pandas as pd
import numpy as np

# Prepare data for lookalike model
# Assuming `merged_data` is a DataFrame containing transaction and product data
customer_product_data = merged_data.groupby(['CustomerID', 'ProductID']).agg({
    'Quantity': 'sum', 
    'TotalValue': 'sum'
}).reset_index()

# Pivot data for similarity calculation
customer_product_matrix = customer_product_data.pivot_table(
    index='CustomerID', 
    columns='ProductID', 
    values='TotalValue', 
    fill_value=0
)

# Normalize the matrix
scaler = StandardScaler()
normalized_matrix = scaler.fit_transform(customer_product_matrix)

# Compute cosine similarity
similarity_matrix = cosine_similarity(normalized_matrix)

# Map customers to IDs for easy lookup
customer_ids = customer_product_matrix.index
similarity_df = pd.DataFrame(similarity_matrix, index=customer_ids, columns=customer_ids)

# Get top 3 similar customers for the first 20 customers
lookalike_results = {}

for customer in customer_ids[:20]:
    similar_customers = similarity_df[customer].sort_values(ascending=False)[1:4]
    lookalike_results[customer] = [(other_cust, round(score, 2)) for other_cust, score in similar_customers.items()]

# Save results to Lookalike.csv
lookalike_list = []

for cust_id, lookalikes in lookalike_results.items():
    for similar_id, score in lookalikes:
        lookalike_list.append({'CustomerID': cust_id, 'SimilarCustomerID': similar_id, 'Score': score})

lookalike_df = pd.DataFrame(lookalike_list)
lookalike_df.to_csv('Lookalike.csv', index=False)

# Print results in Colab
print("Top Lookalike Recommendations:")
for cust_id, lookalikes in lookalike_results.items():
    print(f"Customer {cust_id} is similar to:")
    for similar_id, score in lookalikes:
        print(f"    Customer {similar_id} with similarity score: {score}")

print("\nLookalike recommendations saved to 'Lookalike.csv'")
