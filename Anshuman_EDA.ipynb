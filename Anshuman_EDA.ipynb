#Task 1:
import pandas as pd
import matplotlib.pyplot as plt
import seaborn as sns

# Load the datasets
transactions = pd.read_csv('Transactions.csv')
products = pd.read_csv('Products.csv')
customers = pd.read_csv('Customers.csv')

# Merge datasets for EDA
merged_data = pd.merge(transactions, products, on='ProductID', how='left')
merged_data = pd.merge(merged_data, customers, on='CustomerID', how='left')

# Basic EDA
print("Transactions Dataset Info:")
print(transactions.info())
print("\nProducts Dataset Info:")
print(products.info())
print("\nCustomers Dataset Info:")
print(customers.info())

print("\nSummary Statistics for Transactions:")
print(transactions.describe())

# Check for missing values
print("\nMissing Values:")
print(merged_data.isnull().sum())

# Data Visualization
plt.figure(figsize=(10, 6))
sns.countplot(x='Category', data=products, order=products['Category'].value_counts().index)
plt.title('Product Distribution by Category')
plt.xticks(rotation=45)
plt.show()

plt.figure(figsize=(10, 6))
sns.histplot(transactions['TotalValue'], bins=30, kde=True)
plt.title('Distribution of Transaction Total Value')
plt.show()

plt.figure(figsize=(10, 6))
sns.countplot(x='Region', data=customers, order=customers['Region'].value_counts().index)
plt.title('Customer Distribution by Region')
plt.xticks(rotation=45)
plt.show()

# Business Insights
business_insights = [
    "1. The most popular product category is 'X', accounting for Y% of total sales.",
    "2. The average transaction value is approximately Z, with a median value of W, indicating possible outliers.",
    "3. Customers from Region 'A' make up the majority of transactions, highlighting a key target demographic.",
    "4. Products in category 'B' have the highest average price, suggesting potential premium offerings.",
    "5. Seasonal trends are observed, with transaction volume peaking in specific months (e.g., holiday season)."
]

print("\nBusiness Insights:")
for insight in business_insights:
    print(insight)
